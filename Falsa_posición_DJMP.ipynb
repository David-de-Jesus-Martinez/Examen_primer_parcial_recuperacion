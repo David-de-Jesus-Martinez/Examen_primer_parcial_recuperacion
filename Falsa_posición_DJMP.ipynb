{
  "nbformat": 4,
  "nbformat_minor": 0,
  "metadata": {
    "kernelspec": {
      "name": "python3",
      "display_name": "Python 3",
      "language": "python"
    },
    "language_info": {
      "name": "python",
      "version": "3.6.11",
      "mimetype": "text/x-python",
      "codemirror_mode": {
        "name": "ipython",
        "version": 3
      },
      "pygments_lexer": "ipython3",
      "nbconvert_exporter": "python",
      "file_extension": ".py"
    },
    "colab": {
      "name": "Falsa posición (1).ipynb",
      "provenance": []
    }
  },
  "cells": [
    {
      "cell_type": "code",
      "metadata": {
        "trusted": true,
        "id": "fuEjaVhq5OtH"
      },
      "source": [
        ""
      ],
      "execution_count": null,
      "outputs": []
    },
    {
      "cell_type": "code",
      "metadata": {
        "trusted": true,
        "id": "Ha-VbqIr5OtT"
      },
      "source": [
        "import matplotlib.pyplot as plt\r\n",
        "import math"
      ],
      "execution_count": 1,
      "outputs": []
    },
    {
      "cell_type": "code",
      "metadata": {
        "trusted": true,
        "id": "SIrETdYn5OtU"
      },
      "source": [
        "def f(x):\n",
        "  return pow(math.e,x) -(5*x**2)"
      ],
      "execution_count": 2,
      "outputs": []
    },
    {
      "cell_type": "code",
      "metadata": {
        "trusted": true,
        "id": "NYlBdvVh5OtV"
      },
      "source": [
        "def falsa(xl, xu, criterio_paro = 0.0001):\n",
        "    xl = xl\n",
        "    xu = xu\n",
        "   \n",
        "    f_xu = f(xu)\n",
        "    print(f_xu)\n",
        "    f_xl = f(xl)\n",
        "    print(f_xl)\n",
        "    error = xu\n",
        "    xr_ant = xu\n",
        "    raiz = None\n",
        "    if f_xl * f_xu < 0:\n",
        "        while(error > criterio_paro):\n",
        "            xr = (xu - ((f_xu * (xl - xu) / (f_xl - f_xu))))\n",
        "            xrVec.append(xr)\n",
        "            f_xr = f(xr)\n",
        "            if f_xl * f_xr < 0:\n",
        "                xu = xr\n",
        "                f_xu = f_xr\n",
        "            if f_xu * f_xr < 0:\n",
        "                xl = xr\n",
        "                f_xl = f_xr\n",
        "            error = abs((xr-xr_ant)/xr)\n",
        "            errorVec.append(error)\n",
        "            raiz = xr\n",
        "            xr_ant = xr\n",
        "    else:\n",
        "        print(\"La raíz no está en el intervalo\")\n",
        "    return raiz\n"
      ],
      "execution_count": 3,
      "outputs": []
    },
    {
      "cell_type": "code",
      "metadata": {
        "trusted": true,
        "id": "RAYWFOCj5OtW",
        "outputId": "6622a18a-2925-4160-cbaa-39eb528f689c",
        "colab": {
          "base_uri": "https://localhost:8080/"
        }
      },
      "source": [
        "xl = 0\n",
        "xu = 2\n",
        "xrVec=[]\n",
        "errorVec=[]\n",
        "raiz = falsa(0,2)\n",
        "print(raiz)"
      ],
      "execution_count": 4,
      "outputs": [
        {
          "output_type": "stream",
          "text": [
            "-12.610943901069351\n",
            "1.0\n",
            "0.6052288189170101\n"
          ],
          "name": "stdout"
        }
      ]
    },
    {
      "cell_type": "code",
      "metadata": {
        "trusted": true,
        "id": "FKK4lJb15OtY",
        "outputId": "e63f58f1-cb9d-40ab-c3e5-d450c2230db8",
        "colab": {
          "base_uri": "https://localhost:8080/"
        }
      },
      "source": [
        "print(xrVec)"
      ],
      "execution_count": 5,
      "outputs": [
        {
          "output_type": "stream",
          "text": [
            "[0.1469405806486992, 0.28941042482759394, 0.40534585349777696, 0.48673845062366294, 0.5380287498704888, 0.5681457191434367, 0.585092310855827, 0.5943981951571708, 0.5994396252621139, 0.6021507283985972, 0.6036028729049057, 0.6043790238167075, 0.6047933919253528, 0.6050144780252564, 0.6051324000984357, 0.6051952860037149, 0.6052288189170101]\n"
          ],
          "name": "stdout"
        }
      ]
    },
    {
      "cell_type": "code",
      "metadata": {
        "trusted": true,
        "id": "iEKCGr835OtZ",
        "outputId": "f249e8df-5300-4cda-bb53-b773373980b6",
        "colab": {
          "base_uri": "https://localhost:8080/",
          "height": 265
        }
      },
      "source": [
        "plt.plot(xrVec)\n",
        "plt.plot(errorVec)\n",
        "plt.show()"
      ],
      "execution_count": 11,
      "outputs": [
        {
          "output_type": "display_data",
          "data": {
            "image/png": "[encoded data removed]",
            "text/plain": [
              "<Figure size 432x288 with 1 Axes>"
            ]
          },
          "metadata": {
            "tags": [],
            "needs_background": "light"
          }
        }
      ]
    },
    {
      "cell_type": "code",
      "metadata": {
        "trusted": true,
        "id": "a8sAA1oV5Ota"
      },
      "source": [
        "plt.plot(errorVec)\r\n",
        "plt.show()"
      ],
      "execution_count": null,
      "outputs": []
    }
  ]
}