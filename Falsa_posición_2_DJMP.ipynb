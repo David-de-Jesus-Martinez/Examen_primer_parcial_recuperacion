{
  "nbformat": 4,
  "nbformat_minor": 0,
  "metadata": {
    "kernelspec": {
      "name": "python3",
      "display_name": "Python 3",
      "language": "python"
    },
    "language_info": {
      "name": "python",
      "version": "3.6.11",
      "mimetype": "text/x-python",
      "codemirror_mode": {
        "name": "ipython",
        "version": 3
      },
      "pygments_lexer": "ipython3",
      "nbconvert_exporter": "python",
      "file_extension": ".py"
    },
    "colab": {
      "name": "Falsa posición (1).ipynb",
      "provenance": []
    }
  },
  "cells": [
    {
      "cell_type": "code",
      "metadata": {
        "trusted": true,
        "id": "Ha-VbqIr5OtT"
      },
      "source": [
        "import matplotlib.pyplot as plt\r\n",
        "import math"
      ],
      "execution_count": 1,
      "outputs": []
    },
    {
      "cell_type": "code",
      "metadata": {
        "trusted": true,
        "id": "SIrETdYn5OtU"
      },
      "source": [
        "def f(x):\n",
        "  return -(0.5*x**2) +(2.5*x) +4.5"
      ],
      "execution_count": 2,
      "outputs": []
    },
    {
      "cell_type": "code",
      "metadata": {
        "trusted": true,
        "id": "NYlBdvVh5OtV"
      },
      "source": [
        "def falsa(xl, xu, criterio_paro = 0.0001):\n",
        "    xl = xl\n",
        "    xu = xu\n",
        "   \n",
        "    f_xu = f(xu)\n",
        "    print(f_xu)\n",
        "    f_xl = f(xl)\n",
        "    print(f_xl)\n",
        "    error = xu\n",
        "    xr_ant = xu\n",
        "    raiz = None\n",
        "    if f_xl * f_xu < 0:\n",
        "        while(error > criterio_paro):\n",
        "            xr = (xu - ((f_xu * (xl - xu) / (f_xl - f_xu))))\n",
        "            xrVec.append(xr)\n",
        "            f_xr = f(xr)\n",
        "            if f_xl * f_xr < 0:\n",
        "                xu = xr\n",
        "                f_xu = f_xr\n",
        "            if f_xu * f_xr < 0:\n",
        "                xl = xr\n",
        "                f_xl = f_xr\n",
        "            error = abs((xr-xr_ant)/xr)\n",
        "            errorVec.append(error)\n",
        "            raiz = xr\n",
        "            xr_ant = xr\n",
        "    else:\n",
        "        print(\"La raíz no está en el intervalo\")\n",
        "    return raiz\n"
      ],
      "execution_count": 3,
      "outputs": []
    },
    {
      "cell_type": "code",
      "metadata": {
        "trusted": true,
        "colab": {
          "base_uri": "https://localhost:8080/"
        },
        "id": "RAYWFOCj5OtW",
        "outputId": "32cee2b7-97b4-42d1-a706-d953c2866e72"
      },
      "source": [
        "xl = 6\n",
        "xu = 8\n",
        "xrVec=[]\n",
        "errorVec=[]\n",
        "raiz = falsa(6,8)\n",
        "print(raiz)"
      ],
      "execution_count": 4,
      "outputs": [
        {
          "output_type": "stream",
          "text": [
            "-7.5\n",
            "1.5\n",
            "6.405064923897154\n"
          ],
          "name": "stdout"
        }
      ]
    },
    {
      "cell_type": "code",
      "metadata": {
        "trusted": true,
        "colab": {
          "base_uri": "https://localhost:8080/"
        },
        "id": "FKK4lJb15OtY",
        "outputId": "a0f6cb14-ff78-4283-a430-db05c04439ab"
      },
      "source": [
        "print(xrVec)"
      ],
      "execution_count": 5,
      "outputs": [
        {
          "output_type": "stream",
          "text": [
            "[6.333333333333333, 6.392857142857142, 6.403041825095057, 6.404771532551557, 6.405064923897154]\n"
          ],
          "name": "stdout"
        }
      ]
    },
    {
      "cell_type": "code",
      "metadata": {
        "trusted": true,
        "colab": {
          "base_uri": "https://localhost:8080/",
          "height": 265
        },
        "id": "iEKCGr835OtZ",
        "outputId": "92a542b5-d5a3-4361-bdec-e712852d4db0"
      },
      "source": [
        "plt.plot(xrVec)\n",
        "plt.plot(errorVec)\n",
        "plt.show()"
      ],
      "execution_count": 9,
      "outputs": [
        {
          "output_type": "display_data",
          "data": {
            "image/png": "[encoded data removed]",
            "text/plain": [
              "<Figure size 432x288 with 1 Axes>"
            ]
          },
          "metadata": {
            "tags": [],
            "needs_background": "light"
          }
        }
      ]
    },
    {
      "cell_type": "code",
      "metadata": {
        "trusted": true,
        "id": "a8sAA1oV5Ota"
      },
      "source": [
        "plt.plot(errorVec)\r\n",
        "plt.show()"
      ],
      "execution_count": null,
      "outputs": []
    }
  ]
}