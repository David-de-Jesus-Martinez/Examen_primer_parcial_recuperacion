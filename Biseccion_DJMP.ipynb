{
  "nbformat": 4,
  "nbformat_minor": 0,
  "metadata": {
    "colab": {
      "name": "Biseccion.ipynb",
      "provenance": [],
      "collapsed_sections": []
    },
    "kernelspec": {
      "name": "python3",
      "display_name": "Python 3"
    }
  },
  "cells": [
    {
      "cell_type": "code",
      "metadata": {
        "id": "kKks6EfeZwCl"
      },
      "source": [
        "import matplotlib.pyplot as plt\r\n",
        "import math"
      ],
      "execution_count": 1,
      "outputs": []
    },
    {
      "cell_type": "code",
      "metadata": {
        "id": "ofsoCBYojWXp"
      },
      "source": [
        "def f(x):\r\n",
        "  return -(0.5*x**2) +(2.5*x) +4.5"
      ],
      "execution_count": 2,
      "outputs": []
    },
    {
      "cell_type": "code",
      "metadata": {
        "id": "ABgwDHkIjY1y"
      },
      "source": [
        "def Biseccion(xl,xu,criterio_paro = 0.0001):\r\n",
        "\r\n",
        "  f_xl = f(xl)\r\n",
        "  print(f_xl)\r\n",
        "  f_xu = f(xu)\r\n",
        "  print(f_xu)\r\n",
        "  \r\n",
        "  xr_ant = xu\r\n",
        "  error = xu\r\n",
        "  \r\n",
        "  raiz = None\r\n",
        "\r\n",
        "  if f_xl*f_xu < 0:\r\n",
        "     while(error > criterio_paro):\r\n",
        "      xr = (xl+xu)/2\r\n",
        "      xrVec.append(xr)\r\n",
        "      f_xr = f(xr)\r\n",
        "\r\n",
        "      if f_xl*f_xr < 0:\r\n",
        "        xu = xr\r\n",
        "        f_xu = f_xr\r\n",
        "\r\n",
        "      if f_xu*f_xr < 0:\r\n",
        "        xl = xr\r\n",
        "        f_xl = f_xr\r\n",
        "      error = abs((xr-xr_ant)/xr)\r\n",
        "      errorVec.append(error)\r\n",
        "      raiz = xr\r\n",
        "      xr_ant = xr\r\n",
        "  else:\r\n",
        "    print(\"La raiz no esta en el intervalo\")\r\n",
        "  return raiz"
      ],
      "execution_count": 3,
      "outputs": []
    },
    {
      "cell_type": "code",
      "metadata": {
        "colab": {
          "base_uri": "https://localhost:8080/"
        },
        "id": "MLWr5hQxoGbj",
        "outputId": "b40eb047-c6fe-4798-bc7b-b8f637292df8"
      },
      "source": [
        "xl = 6\r\n",
        "xu = 8\r\n",
        "xrVec=[]\r\n",
        "errorVec=[]\r\n",
        "raiz=Biseccion(6,8)\r\n",
        "print(raiz)"
      ],
      "execution_count": 4,
      "outputs": [
        {
          "output_type": "stream",
          "text": [
            "1.5\n",
            "-7.5\n",
            "6.40478515625\n"
          ],
          "name": "stdout"
        }
      ]
    },
    {
      "cell_type": "code",
      "metadata": {
        "colab": {
          "base_uri": "https://localhost:8080/"
        },
        "id": "nzuddZ7soW13",
        "outputId": "c9456227-7f98-4604-84a1-e3c6de2a539d"
      },
      "source": [
        "print(xrVec)"
      ],
      "execution_count": 5,
      "outputs": [
        {
          "output_type": "stream",
          "text": [
            "[7.0, 6.5, 6.25, 6.375, 6.4375, 6.40625, 6.390625, 6.3984375, 6.40234375, 6.404296875, 6.4052734375, 6.40478515625]\n"
          ],
          "name": "stdout"
        }
      ]
    },
    {
      "cell_type": "code",
      "metadata": {
        "colab": {
          "base_uri": "https://localhost:8080/",
          "height": 265
        },
        "id": "cBOII77Zo6nI",
        "outputId": "959e0606-f0bf-4106-f21b-686fc0409dc0"
      },
      "source": [
        "plt.plot(xrVec)\r\n",
        "plt.plot(errorVec)\r\n",
        "plt.show()"
      ],
      "execution_count": 6,
      "outputs": [
        {
          "output_type": "display_data",
          "data": {
            "image/png": "[encoded data removed]",
            "text/plain": [
              "<Figure size 432x288 with 1 Axes>"
            ]
          },
          "metadata": {
            "tags": [],
            "needs_background": "light"
          }
        }
      ]
    }
  ]
}